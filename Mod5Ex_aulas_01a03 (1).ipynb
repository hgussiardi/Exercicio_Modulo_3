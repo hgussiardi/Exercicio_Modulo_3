{
 "cells": [
  {
   "cell_type": "markdown",
   "metadata": {},
   "source": [
    "# Módulo 5 Tarefa 1\n",
    "## Base de nascidos vivos do DataSUS\n",
    "O DataSUS disponibiliza diversos arquivos de dados com relação a seus segurados, conforme a [lei da transparência de informações públicas](https://www.sisgov.com/transparencia-acesso-informacao/#:~:text=A%20Lei%20da%20Transpar%C3%AAncia%20(LC,em%20um%20site%20na%20internet.). \n",
    "\n",
    "Essas informações podem ser obtidas pela internet [aqui](http://www2.datasus.gov.br/DATASUS/index.php?area=0901&item=1). Como o processo de obtenção desses arquivos foge um pouco do nosso escopo, deixamos o arquivo ```SINASC_RO_2019.csv``` já como vai ser encontrado no DataSUS. O dicionário de dados está no arquivo ```estrutura_sinasc_para_CD.pdf``` (o nome do arquivo tal qual no portal do DataSUS).\n",
    "\n",
    "### Nosso objetivo\n",
    "Queremos deixar uma base organizada para podermos estudar a relação entre partos com risco para o bebê e algumas condições como tempo de parto, consultas de pré-natal etc.\n",
    "\n",
    "#### Preparação da base\n",
    "1. Carregue a base 'SINASC_RO_2019.csv'. Conte o número de registros e o número de registros não duplicados da base. Dica: você aprendeu um método que remove duplicados, encadeie este método com um outro método que conta o número de linhas. **Há linhas duplicadas?**  \n",
    "\n",
    "2. Conte o número de valores *missing* por variável.  \n",
    "\n",
    "3. Ok, no item anterior você deve ter achado pouco prático ler a informação de tantas variáveis, muitas delas nem devem ser interesantes. Então crie uma seleção dessa base somente com as colunas que interessam. São elas:\n",
    "``` \n",
    "['LOCNASC', 'IDADEMAE', 'ESTCIVMAE', 'ESCMAE', 'QTDFILVIVO', \n",
    "    'GESTACAO', 'GRAVIDEZ', 'CONSULTAS', 'APGAR5'] \n",
    "```\n",
    "Refaça a contagem de valores *missings*.  \n",
    "\n",
    "4. Apgar é uma *nota* que o pediatra dá ao bebê quando nasce de acordo com algumas características associadas principalmente à respiração. Apgar 1 e Apgar 5 são as notas 1 e 5 minutos do nascimento. Apgar5 será a nossa variável de interesse principal. Então remova todos os registros com Apgar5 não preenchido. Para esta seleção, conte novamente o número de linhas e o número de *missings*.  \n",
    "\n",
    "5. observe que as variáveis ```['ESTCIVMAE', 'CONSULTAS']``` possuem o código ```9```, que significa *ignorado*. Vamos assumir que o não preenchido é o mesmo que o código ```9```.<br>\n",
    "6. Substitua os valores faltantes da quantitativa (```QTDFILVIVO```) por zero.  \n",
    "7. Das restantes, decida que valore te parece mais adequado (um 'não preenchido' ou um valor 'mais provável' como no item anterior) e preencha. Justifique. Lembre-se de que tratamento de dados é trabalho do cientista, e que estamos tomando decisões a todo o momento - não há necessariamente certo e errado aqui.  \n",
    "8. O Apgar possui uma classificação indicando se o bebê passou por asfixia:\n",
    "- Entre 8 e 10 está em uma faixa 'normal'. \n",
    "- Entre 6 e 7, significa que o recém-nascido passou por 'asfixia leve'. \n",
    "- Entre 4 e 5 significa 'asfixia moderada'.\n",
    "- Entre 0 e 3 significa 'asfixia severa'.  \n",
    "\n",
    "Crie uma categorização dessa variável com essa codificação e calcule as frequências dessa categorização.  \n",
    "<br>\n",
    "9. Renomeie as variáveis para que fiquem no *snake case*, ou seja, em letras minúsculas, com um *underscore* entre as palávras. Dica: repare que se você não quiser criar um *dataframe* novo, você vai precisar usar a opção ```inplace = True```."
   ]
  },
  {
   "cell_type": "code",
   "execution_count": 1,
   "metadata": {},
   "outputs": [
    {
     "name": "stdout",
     "output_type": "stream",
     "text": [
      "(27028, 69)\n"
     ]
    },
    {
     "data": {
      "text/plain": [
       "(27028, 69)"
      ]
     },
     "execution_count": 1,
     "metadata": {},
     "output_type": "execute_result"
    }
   ],
   "source": [
    "import pandas as pd\n",
    "import requests\n",
    "\n",
    "# 1) seu código aqui\n",
    "sinasc = pd.read_csv('SINASC_RO_2019.csv')\n",
    "print(sinasc.shape)\n",
    "sinasc.drop_duplicates().shape\n",
    "# Não há duplicados"
   ]
  },
  {
   "cell_type": "code",
   "execution_count": 2,
   "metadata": {},
   "outputs": [
    {
     "data": {
      "text/plain": [
       "ORIGEM          0\n",
       "CODESTAB      115\n",
       "CODMUNNASC      0\n",
       "LOCNASC         0\n",
       "IDADEMAE        0\n",
       "             ... \n",
       "munResUf        0\n",
       "munResLat       1\n",
       "munResLon       1\n",
       "munResAlt       1\n",
       "munResArea      1\n",
       "Length: 69, dtype: int64"
      ]
     },
     "execution_count": 2,
     "metadata": {},
     "output_type": "execute_result"
    }
   ],
   "source": [
    "# 2) seu código aqui\n",
    "\n",
    "sinasc.isna().sum()\n",
    "\n"
   ]
  },
  {
   "cell_type": "code",
   "execution_count": 3,
   "metadata": {},
   "outputs": [
    {
     "name": "stdout",
     "output_type": "stream",
     "text": [
      "Index(['LOCNASC', 'IDADEMAE', 'ESTCIVMAE', 'ESCMAE', 'QTDFILVIVO', 'GESTACAO',\n",
      "       'GRAVIDEZ', 'CONSULTAS', 'APGAR5'],\n",
      "      dtype='object')\n"
     ]
    }
   ],
   "source": [
    "# 3) seu código aqui \n",
    "#['LOCNASC', 'IDADEMAE', 'ESTCIVMAE', 'ESCMAE', 'QTDFILVIVO', \n",
    "# 'GESTACAO', 'GRAVIDEZ', 'CONSULTAS', 'APGAR5'] \n",
    "#sinasc.columns\n",
    "sinasc.drop(['ORIGEM', 'CODESTAB', 'CODMUNNASC', \n",
    "       'CODOCUPMAE', 'QTDFILMORT', 'CODMUNRES',\n",
    "       'PARTO', 'DTNASC', 'HORANASC',\n",
    "       'SEXO', 'APGAR1','RACACOR', 'PESO', 'IDANOMAL', 'DTCADASTRO',\n",
    "       'CODANOMAL', 'NUMEROLOTE', 'VERSAOSIST', 'DTRECEBIM', 'DIFDATA',\n",
    "       'DTRECORIGA', 'NATURALMAE', 'CODMUNNATU', 'CODUFNATU', 'ESCMAE2010',\n",
    "       'SERIESCMAE', 'DTNASCMAE', 'RACACORMAE', 'QTDGESTANT', 'QTDPARTNOR',\n",
    "       'QTDPARTCES', 'IDADEPAI', 'DTULTMENST', 'SEMAGESTAC', 'TPMETESTIM',\n",
    "       'CONSPRENAT', 'MESPRENAT', 'TPAPRESENT', 'STTRABPART', 'STCESPARTO',\n",
    "       'TPNASCASSI', 'TPFUNCRESP', 'TPDOCRESP', 'DTDECLARAC', 'ESCMAEAGR1',\n",
    "       'STDNEPIDEM', 'STDNNOVA', 'CODPAISRES', 'TPROBSON', 'PARIDADE',\n",
    "       'KOTELCHUCK', 'CONTADOR', 'munResStatus', 'munResTipo', 'munResNome',\n",
    "       'munResUf', 'munResLat', 'munResLon', 'munResAlt', 'munResArea'],axis = 1, inplace = True)\n",
    "print(sinasc.columns)\n",
    "\n"
   ]
  },
  {
   "cell_type": "code",
   "execution_count": 4,
   "metadata": {},
   "outputs": [
    {
     "name": "stdout",
     "output_type": "stream",
     "text": [
      "Número total de linhas do DataFrame: 27028\n",
      "Número de linhas a serem eliminadas: 103\n",
      "Número de linhas restantes: 26925\n"
     ]
    }
   ],
   "source": [
    "# 4) seu código aqui\n",
    "print(\"Número total de linhas do DataFrame: \" + str(len(sinasc)))\n",
    "print(\"Número de linhas a serem eliminadas: \" + str(sinasc['APGAR5'].isna().sum()))\n",
    "#tentei utilizar o dropna para apagar as linhas mas não funcionou, desta forma eu contornei o problema\n",
    "#sinasc['APGAR5'].dropna(inplace=True)\n",
    "#sinasc= sinasc['APGAR5'].dropna()\n",
    "sinasc = sinasc[~sinasc['APGAR5'].isna()]\n",
    "print(\"Número de linhas restantes: \" + str(len(sinasc)))\n"
   ]
  },
  {
   "cell_type": "code",
   "execution_count": 5,
   "metadata": {},
   "outputs": [
    {
     "name": "stdout",
     "output_type": "stream",
     "text": [
      "315\n",
      "0\n",
      "0\n"
     ]
    }
   ],
   "source": [
    "# 5) seu código aqui\n",
    "#sinasc.shape ['ESTCIVMAE', 'CONSULTAS']\n",
    "print(sinasc['ESTCIVMAE'].isna().sum())\n",
    "sinasc['ESTCIVMAE'].fillna(9,inplace=True)\n",
    "print(sinasc['ESTCIVMAE'].isna().sum())\n",
    "\n",
    "print(sinasc['CONSULTAS'].isna().sum())\n",
    "#para consulta não foi necessário fazer a mudança de \"Na\" para 9, não existe casos.\n",
    "#sinasc['CONSULTAS'].fillna(9,inplace=True)\n",
    "#print(sinasc['CONSULTAS'].isna().sum())"
   ]
  },
  {
   "cell_type": "code",
   "execution_count": 6,
   "metadata": {},
   "outputs": [
    {
     "name": "stdout",
     "output_type": "stream",
     "text": [
      "1566\n",
      "0\n"
     ]
    }
   ],
   "source": [
    "# 6) Seu código aqui\n",
    "#QTDFILVIVO\n",
    "print(sinasc['QTDFILVIVO'].isna().sum())\n",
    "sinasc['QTDFILVIVO'].fillna(0, inplace=True)\n",
    "print(sinasc['QTDFILVIVO'].isna().sum())"
   ]
  },
  {
   "cell_type": "code",
   "execution_count": 7,
   "metadata": {},
   "outputs": [
    {
     "name": "stdout",
     "output_type": "stream",
     "text": [
      "LOCNASC          0\n",
      "IDADEMAE         0\n",
      "ESTCIVMAE        0\n",
      "ESCMAE         310\n",
      "QTDFILVIVO       0\n",
      "GESTACAO      1216\n",
      "GRAVIDEZ        76\n",
      "CONSULTAS        0\n",
      "APGAR5           0\n",
      "dtype: int64\n",
      "LOCNASC       0\n",
      "IDADEMAE      0\n",
      "ESTCIVMAE     0\n",
      "ESCMAE        0\n",
      "QTDFILVIVO    0\n",
      "GESTACAO      0\n",
      "GRAVIDEZ      0\n",
      "CONSULTAS     0\n",
      "APGAR5        0\n",
      "dtype: int64\n"
     ]
    }
   ],
   "source": [
    "# 7) seu código aqui\n",
    "print(sinasc.isna().sum())\n",
    "#print(sinasc['ESCMAE'].value_counts())\n",
    "#Para escolaridade da mãe no momento a decisão é colocar ignorado já que isto foi previsto\n",
    "#na concepção do arquivo e não está sendo utilizado\n",
    "sinasc['ESCMAE'].fillna('Ignorado', inplace=True)\n",
    "\n",
    "\n",
    "#Gestacao\n",
    "#print(sinasc['GESTACAO'].value_counts())\n",
    "# Neste caso poderiamos colocar os valores para a opção que ocorre com mais frequência e que é mais normal de acontecer, \n",
    "#37 a 41 semanas, mas como temos a opção ignorado, prefiro utiliza-la.\n",
    "sinasc['GESTACAO'].fillna('Ignorado', inplace=True)\n",
    "\n",
    "\n",
    "#GRAVIDEZ\n",
    "#print(sinasc['GRAVIDEZ'].value_counts())\n",
    "# o Mesmo vale para este caso, como foi previsto o ignorado, vamos utilizá-lo\n",
    "sinasc['GRAVIDEZ'].fillna('Ignorado', inplace=True)\n",
    "\n",
    "print(sinasc.isna().sum())"
   ]
  },
  {
   "cell_type": "code",
   "execution_count": 8,
   "metadata": {},
   "outputs": [
    {
     "name": "stdout",
     "output_type": "stream",
     "text": [
      "       LOCNASC  IDADEMAE  ESTCIVMAE           ESCMAE  QTDFILVIVO  \\\n",
      "0            1        19        5.0      8 a 11 anos         0.0   \n",
      "1            1        29        2.0      8 a 11 anos         1.0   \n",
      "2            1        37        9.0      8 a 11 anos         2.0   \n",
      "3            1        30        5.0  12 anos ou mais         0.0   \n",
      "4            1        30        2.0      8 a 11 anos         1.0   \n",
      "...        ...       ...        ...              ...         ...   \n",
      "27023        1        32        2.0  12 anos ou mais         1.0   \n",
      "27024        1        19        1.0      8 a 11 anos         0.0   \n",
      "27025        1        24        2.0      8 a 11 anos         0.0   \n",
      "27026        1        21        2.0      8 a 11 anos         1.0   \n",
      "27027        1        18        5.0      8 a 11 anos         1.0   \n",
      "\n",
      "              GESTACAO GRAVIDEZ  CONSULTAS  APGAR5 apgar5_cat  \n",
      "0      37 a 41 semanas    Única          4    10.0     normal  \n",
      "1      37 a 41 semanas    Única          4     9.0     normal  \n",
      "2      37 a 41 semanas    Única          4    10.0     normal  \n",
      "3      37 a 41 semanas    Única          3    10.0     normal  \n",
      "4      37 a 41 semanas    Única          4    10.0     normal  \n",
      "...                ...      ...        ...     ...        ...  \n",
      "27023  32 a 36 semanas    Única          4     9.0     normal  \n",
      "27024  37 a 41 semanas    Única          4     9.0     normal  \n",
      "27025  37 a 41 semanas    Única          4    10.0     normal  \n",
      "27026  32 a 36 semanas    Única          4     9.0     normal  \n",
      "27027  37 a 41 semanas    Única          4     8.0     normal  \n",
      "\n",
      "[26925 rows x 10 columns]\n"
     ]
    }
   ],
   "source": [
    "# 8) seu código aqui\n",
    "\n",
    "categoria=[]\n",
    "categoria=sinasc['APGAR5'].map({0:'asfixia severa',1:'asfixia severa',2:'asfixia severa',3:'asfixia severa',\n",
    "                4:'asfixia moderada',5:'asfixia moderada',6:'asfixia leve',7:'asfixia leve',\n",
    "                8:'normal', 9:'normal', 10:'normal'}) \n",
    "sinasc['apgar5_cat']=categoria\n",
    "print(sinasc)"
   ]
  },
  {
   "cell_type": "code",
   "execution_count": 9,
   "metadata": {},
   "outputs": [
    {
     "name": "stdout",
     "output_type": "stream",
     "text": [
      "Index(['LOCNASC', 'IDADEMAE', 'ESTCIVMAE', 'ESCMAE', 'QTDFILVIVO', 'GESTACAO',\n",
      "       'GRAVIDEZ', 'CONSULTAS', 'APGAR5', 'apgar5_cat'],\n",
      "      dtype='object')\n",
      "Index(['loc_nasc', 'idade_mae', 'est_civ_mae', 'esc_mae', 'qtd_fil_vivo',\n",
      "       'gestacao', 'gravidez', 'consultas', 'apgar_5', 'apgar_5_cat'],\n",
      "      dtype='object')\n"
     ]
    }
   ],
   "source": [
    "# 9) seu código aqui\n",
    "print(sinasc.columns)\n",
    "sinasc.columns = ['loc_nasc', 'idade_mae', 'est_civ_mae', 'esc_mae', 'qtd_fil_vivo', 'gestacao',\n",
    "       'gravidez', 'consultas', 'apgar_5', 'apgar_5_cat']\n",
    "print(sinasc.columns)"
   ]
  },
  {
   "cell_type": "code",
   "execution_count": 10,
   "metadata": {},
   "outputs": [
    {
     "name": "stdout",
     "output_type": "stream",
     "text": [
      "       loc_nasc  idade_mae  est_civ_mae          esc_mae  qtd_fil_vivo  \\\n",
      "0             1         19          5.0      8 a 11 anos           0.0   \n",
      "1             1         29          2.0      8 a 11 anos           1.0   \n",
      "2             1         37          9.0      8 a 11 anos           2.0   \n",
      "3             1         30          5.0  12 anos ou mais           0.0   \n",
      "4             1         30          2.0      8 a 11 anos           1.0   \n",
      "...         ...        ...          ...              ...           ...   \n",
      "27023         1         32          2.0  12 anos ou mais           1.0   \n",
      "27024         1         19          1.0      8 a 11 anos           0.0   \n",
      "27025         1         24          2.0      8 a 11 anos           0.0   \n",
      "27026         1         21          2.0      8 a 11 anos           1.0   \n",
      "27027         1         18          5.0      8 a 11 anos           1.0   \n",
      "\n",
      "              gestacao gravidez  consultas  apgar_5 apgar_5_cat  \n",
      "0      37 a 41 semanas    Única          4     10.0      normal  \n",
      "1      37 a 41 semanas    Única          4      9.0      normal  \n",
      "2      37 a 41 semanas    Única          4     10.0      normal  \n",
      "3      37 a 41 semanas    Única          3     10.0      normal  \n",
      "4      37 a 41 semanas    Única          4     10.0      normal  \n",
      "...                ...      ...        ...      ...         ...  \n",
      "27023  32 a 36 semanas    Única          4      9.0      normal  \n",
      "27024  37 a 41 semanas    Única          4      9.0      normal  \n",
      "27025  37 a 41 semanas    Única          4     10.0      normal  \n",
      "27026  32 a 36 semanas    Única          4      9.0      normal  \n",
      "27027  37 a 41 semanas    Única          4      8.0      normal  \n",
      "\n",
      "[26925 rows x 10 columns]\n"
     ]
    }
   ],
   "source": [
    "print(sinasc)"
   ]
  },
  {
   "cell_type": "code",
   "execution_count": null,
   "metadata": {},
   "outputs": [],
   "source": []
  }
 ],
 "metadata": {
  "kernelspec": {
   "display_name": "Python 3 (ipykernel)",
   "language": "python",
   "name": "python3"
  },
  "language_info": {
   "codemirror_mode": {
    "name": "ipython",
    "version": 3
   },
   "file_extension": ".py",
   "mimetype": "text/x-python",
   "name": "python",
   "nbconvert_exporter": "python",
   "pygments_lexer": "ipython3",
   "version": "3.9.7"
  }
 },
 "nbformat": 4,
 "nbformat_minor": 4
}
